{
  "cells": [
    {
      "cell_type": "markdown",
      "metadata": {
        "id": "WV8HrRP_t97R",
        "vscode": {
          "languageId": "raw"
        }
      },
      "source": [
        "# dPrune: Forgetting Score Example\n",
        "\n",
        "This notebook demonstrates how to implement pruning using the **Forgetting Score** in `dPrune`. The forgetting score is based on the [An Empirical Study of Example Forgetting during Deep Neural Network Learning](https://arxiv.org/abs/1812.05159) paper and measures how many times an example is \"forgotten\" during training. Such examples are found to be more *informative* than others.\n",
        "\n",
        "An example is \"forgotten\" if it transitions from being classified correctly to incorrectly between epochs. Therefore, it is well-suited for the classification tasks.\n"
      ]
    },
    {
      "cell_type": "markdown",
      "metadata": {
        "id": "kcvHG2m0t97S",
        "vscode": {
          "languageId": "raw"
        }
      },
      "source": [
        "## 1. Setup and Installation\n"
      ]
    },
    {
      "cell_type": "code",
      "execution_count": null,
      "metadata": {
        "colab": {
          "base_uri": "https://localhost:8080/"
        },
        "id": "zTepxuGwt97T",
        "outputId": "0495e419-2627-4de4-b2bc-cb8685312d5e"
      },
      "outputs": [],
      "source": [
        "# Install required packages if needed\n",
        "# !pip install -e .[test]\n",
        "!pip install transformers torch scikit-learn tqdm accelerate\n",
        "\n",
        "!pip install -U datasets huggingface_hub fsspec"
      ]
    },
    {
      "cell_type": "code",
      "execution_count": 3,
      "metadata": {
        "id": "ydYLJ5est97T"
      },
      "outputs": [],
      "source": [
        "import torch\n",
        "import numpy as np\n",
        "from datasets import Dataset\n",
        "from transformers import (\n",
        "    AutoTokenizer,\n",
        "    AutoModelForSequenceClassification,\n",
        "    TrainingArguments,\n",
        "    Trainer\n",
        ")\n",
        "\n",
        "from dprune.callbacks import ForgettingCallback\n",
        "from dprune.scorers.supervised import ForgettingScorer\n",
        "from dprune.pruners.selection import TopKPruner, BottomKPruner\n",
        "from dprune.pipeline import PruningPipeline\n"
      ]
    },
    {
      "cell_type": "markdown",
      "metadata": {
        "id": "dpeMhzwit97U",
        "vscode": {
          "languageId": "raw"
        }
      },
      "source": [
        "## 2. Load the IMDB dataset\n",
        "\n",
        "For the forgetting score to be meaningful, we need a dataset large enough and training long enough to observe forgetting events. We will be using IMDB dataset from HuggingFace.\n"
      ]
    },
    {
      "cell_type": "code",
      "execution_count": 32,
      "metadata": {
        "colab": {
          "base_uri": "https://localhost:8080/"
        },
        "id": "T2y4njklt97U",
        "outputId": "b398e1ac-f7fd-4963-e435-28d9bf23b066"
      },
      "outputs": [
        {
          "name": "stdout",
          "output_type": "stream",
          "text": [
            "Positive examples: 12500\n",
            "Negative examples: 12500\n",
            "\n",
            "First few examples:\n",
            "  0: 'I rented I AM CURIOUS-YELLOW from my video store because of all the controversy that surrounded it when it was first released in 1967. I also heard that at first it was seized by U.S. customs if it ever tried to enter this country, therefore being a fan of films considered \"controversial\" I really had to see this for myself.<br /><br />The plot is centered around a young Swedish drama student named Lena who wants to learn everything she can about life. In particular she wants to focus her attentions to making some sort of documentary on what the average Swede thought about certain political issues such as the Vietnam War and race issues in the United States. In between asking politicians and ordinary denizens of Stockholm about their opinions on politics, she has sex with her drama teacher, classmates, and married men.<br /><br />What kills me about I AM CURIOUS-YELLOW is that 40 years ago, this was considered pornographic. Really, the sex and nudity scenes are few and far between, even then it's not shot like some cheaply made porno. While my countrymen mind find it shocking, in reality sex and nudity are a major staple in Swedish cinema. Even Ingmar Bergman, arguably their answer to good old boy John Ford, had sex scenes in his films.<br /><br />I do commend the filmmakers for the fact that any sex shown in the film is shown for artistic purposes rather than just to shock people and make money to be shown in pornographic theaters in America. I AM CURIOUS-YELLOW is a good film for anyone wanting to study the meat and potatoes (no pun intended) of Swedish cinema. But really, this film doesn't have much of a plot.' -> 0\n",
            "  1: '\"I Am Curious: Yellow\" is a risible and pretentious steaming pile. It doesn't matter what one's political views are because this film can hardly be taken seriously on any level. As for the claim that frontal male nudity is an automatic NC-17, that isn't true. I've seen R-rated films with male nudity. Granted, they only offer some fleeting views, but where are the R-rated films with gaping vulvas and flapping labia? Nowhere, because they don't exist. The same goes for those crappy cable shows: schlongs swinging in the breeze but not a clitoris in sight. And those pretentious indie movies like The Brown Bunny, in which we're treated to the site of Vincent Gallo's throbbing johnson, but not a trace of pink visible on Chloe Sevigny. Before crying (or implying) \"double-standard\" in matters of nudity, the mentally obtuse should take into account one unavoidably obvious anatomical difference between men and women: there are no genitals on display when actresses appears nude, and the same cannot be said for a man. In fact, you generally won't see female genitals in an American film in anything short of porn or explicit erotica. This alleged double-standard is less a double standard than an admittedly depressing ability to come to terms culturally with the insides of women's bodies.' -> 0\n",
            "  2: 'If only to avoid making this type of film in the future. This film is interesting as an experiment but tells no cogent story.<br /><br />One might feel virtuous for sitting thru it because it touches on so many IMPORTANT issues but it does so without any discernable motive. The viewer comes away with no new perspectives (unless one comes up with one while one's mind wanders, as it will invariably do during this pointless film).<br /><br />One might better spend one's time staring out a window at a tree growing.<br /><br />' -> 0\n"
          ]
        }
      ],
      "source": [
        "from datasets import load_dataset\n",
        "raw_dataset = load_dataset(\"stanfordnlp/imdb\", split=\"train\")\n",
        "\n",
        "\"\"\"\n",
        "If you want to use a sample of the dataset for faster training, uncomment the snipper below\n",
        "# raw_dataset = raw_dataset.shuffle()\n",
        "# raw_dataset = raw_dataset.filter(lambda entry, index: index < 0.1 * len(raw_dataset), with_indices=True)\n",
        "\"\"\"\n",
        "\n",
        "print(f\"Positive examples: {sum(raw_dataset['label'])}\")\n",
        "print(f\"Negative examples: {len(raw_dataset) - sum(raw_dataset['label'])}\")\n",
        "print(\"\\nFirst few examples:\")\n",
        "for i in range(3):\n",
        "    print(f\"  {i}: '{raw_dataset['text'][i]}' -> {raw_dataset['label'][i]}\")\n"
      ]
    },
    {
      "cell_type": "markdown",
      "metadata": {
        "id": "a8j9TPt-t97V",
        "vscode": {
          "languageId": "raw"
        }
      },
      "source": [
        "## 3. Setup Model and Tokenizer\n"
      ]
    },
    {
      "cell_type": "code",
      "execution_count": 37,
      "metadata": {
        "colab": {
          "base_uri": "https://localhost:8080/",
          "height": 191,
          "referenced_widgets": [
            "f51535f3e3f449df8b88b7d177daa211",
            "7e7bcca53aab47589ca1a7bbdeac70cf",
            "be05cfd23251404883b86a72b5045106",
            "10533fa9c845444190027569323d7794",
            "1fd71d46ee9a4223bd4e7a900227581e",
            "30eb898cde6c45dea7e31511bfb98bbc",
            "bb9ada7af444436a8dd4843ae81d46fb",
            "8ce3d4f6a99f459e8749f92cc4bc1d5b",
            "7c366fc2c1524fc29940036cad10d9c4",
            "94877e7b225d4cefbcfd9a8d8b0e0e53",
            "684a4eac4f6c4430abc226e31e6bc23b"
          ]
        },
        "id": "wV_o6lpTt97V",
        "outputId": "7298ccc2-0b10-4461-8447-cbaf74a49913"
      },
      "outputs": [
        {
          "name": "stderr",
          "output_type": "stream",
          "text": [
            "Some weights of DistilBertForSequenceClassification were not initialized from the model checkpoint at distilbert-base-uncased and are newly initialized: ['classifier.bias', 'classifier.weight', 'pre_classifier.bias', 'pre_classifier.weight']\n",
            "You should probably TRAIN this model on a down-stream task to be able to use it for predictions and inference.\n"
          ]
        },
        {
          "data": {
            "application/vnd.jupyter.widget-view+json": {
              "model_id": "f51535f3e3f449df8b88b7d177daa211",
              "version_major": 2,
              "version_minor": 0
            },
            "text/plain": [
              "Map:   0%|          | 0/25000 [00:00<?, ? examples/s]"
            ]
          },
          "metadata": {},
          "output_type": "display_data"
        },
        {
          "name": "stdout",
          "output_type": "stream",
          "text": [
            "Model and tokenizer loaded successfully!\n",
            "Tokenized dataset: Dataset({\n",
            "    features: ['text', 'label', 'input_ids', 'attention_mask'],\n",
            "    num_rows: 25000\n",
            "})\n"
          ]
        }
      ],
      "source": [
        "model_name = 'distilbert-base-uncased'\n",
        "tokenizer = AutoTokenizer.from_pretrained(model_name)\n",
        "model = AutoModelForSequenceClassification.from_pretrained(model_name, num_labels=2)\n",
        "\n",
        "def tokenize_function(examples):\n",
        "    return tokenizer(examples['text'], padding='max_length', truncation=True, max_length=128)\n",
        "\n",
        "tokenized_dataset = raw_dataset.map(tokenize_function, batched=True)\n",
        "\n",
        "print(\"Model and tokenizer loaded successfully!\")\n",
        "print(f\"Tokenized dataset: {tokenized_dataset}\")\n"
      ]
    },
    {
      "cell_type": "markdown",
      "metadata": {
        "id": "JzckE9j5t97V",
        "vscode": {
          "languageId": "raw"
        }
      },
      "source": [
        "## 4. Initialize the Forgetting Callback\n",
        "\n",
        "This is the key step! We create a `ForgettingCallback` that will monitor the training process.\n"
      ]
    },
    {
      "cell_type": "code",
      "execution_count": 39,
      "metadata": {
        "id": "RD9QmHY6t97V"
      },
      "outputs": [],
      "source": [
        "forgetting_callback = ForgettingCallback()"
      ]
    },
    {
      "cell_type": "markdown",
      "metadata": {
        "id": "v1qMpfd4t97V",
        "vscode": {
          "languageId": "raw"
        }
      },
      "source": [
        "## 5. Train the Model with the Callback\n",
        "\n",
        "We'll train for several epochs to give the model a chance to \"forget\" some examples.\n"
      ]
    },
    {
      "cell_type": "code",
      "execution_count": 40,
      "metadata": {
        "colab": {
          "base_uri": "https://localhost:8080/",
          "height": 972
        },
        "id": "aQqbw26wt97W",
        "outputId": "2a23d58f-6a26-4292-afa1-a9545901d679"
      },
      "outputs": [
        {
          "name": "stdout",
          "output_type": "stream",
          "text": [
            "Trainer created with ForgettingCallback.\n",
            "Starting training...\n"
          ]
        },
        {
          "data": {
            "text/html": [
              "\n",
              "    <div>\n",
              "      \n",
              "      <progress value='2346' max='2346' style='width:300px; height:20px; vertical-align: middle;'></progress>\n",
              "      [2346/2346 16:50, Epoch 3/3]\n",
              "    </div>\n",
              "    <table border=\"1\" class=\"dataframe\">\n",
              "  <thead>\n",
              " <tr style=\"text-align: left;\">\n",
              "      <th>Step</th>\n",
              "      <th>Training Loss</th>\n",
              "    </tr>\n",
              "  </thead>\n",
              "  <tbody>\n",
              "    <tr>\n",
              "      <td>100</td>\n",
              "      <td>0.492200</td>\n",
              "    </tr>\n",
              "    <tr>\n",
              "      <td>200</td>\n",
              "      <td>0.372500</td>\n",
              "    </tr>\n",
              "    <tr>\n",
              "      <td>300</td>\n",
              "      <td>0.345800</td>\n",
              "    </tr>\n",
              "    <tr>\n",
              "      <td>400</td>\n",
              "      <td>0.350400</td>\n",
              "    </tr>\n",
              "    <tr>\n",
              "      <td>500</td>\n",
              "      <td>0.320100</td>\n",
              "    </tr>\n",
              "    <tr>\n",
              "      <td>600</td>\n",
              "      <td>0.327400</td>\n",
              "    </tr>\n",
              "    <tr>\n",
              "      <td>700</td>\n",
              "      <td>0.313700</td>\n",
              "    </tr>\n",
              "    <tr>\n",
              "      <td>800</td>\n",
              "      <td>0.299200</td>\n",
              "    </tr>\n",
              "    <tr>\n",
              "      <td>900</td>\n",
              "      <td>0.235300</td>\n",
              "    </tr>\n",
              "    <tr>\n",
              "      <td>1000</td>\n",
              "      <td>0.223700</td>\n",
              "    </tr>\n",
              "    <tr>\n",
              "      <td>1100</td>\n",
              "      <td>0.225600</td>\n",
              "    </tr>\n",
              "    <tr>\n",
              "      <td>1200</td>\n",
              "      <td>0.229300</td>\n",
              "    </tr>\n",
              "    <tr>\n",
              "      <td>1300</td>\n",
              "      <td>0.230400</td>\n",
              "    </tr>\n",
              "    <tr>\n",
              "      <td>1400</td>\n",
              "      <td>0.225300</td>\n",
              "    </tr>\n",
              "    <tr>\n",
              "      <td>1500</td>\n",
              "      <td>0.231700</td>\n",
              "    </tr>\n",
              "    <tr>\n",
              "      <td>1600</td>\n",
              "      <td>0.207000</td>\n",
              "    </tr>\n",
              "    <tr>\n",
              "      <td>1700</td>\n",
              "      <td>0.163900</td>\n",
              "    </tr>\n",
              "    <tr>\n",
              "      <td>1800</td>\n",
              "      <td>0.165700</td>\n",
              "    </tr>\n",
              "    <tr>\n",
              "      <td>1900</td>\n",
              "      <td>0.160200</td>\n",
              "    </tr>\n",
              "    <tr>\n",
              "      <td>2000</td>\n",
              "      <td>0.173100</td>\n",
              "    </tr>\n",
              "    <tr>\n",
              "      <td>2100</td>\n",
              "      <td>0.174300</td>\n",
              "    </tr>\n",
              "    <tr>\n",
              "      <td>2200</td>\n",
              "      <td>0.150900</td>\n",
              "    </tr>\n",
              "    <tr>\n",
              "      <td>2300</td>\n",
              "      <td>0.145800</td>\n",
              "    </tr>\n",
              "  </tbody>\n",
              "</table><p>\n",
              "    <div>\n",
              "      \n",
              "      <progress value='1563' max='1563' style='width:300px; height:20px; vertical-align: middle;'></progress>\n",
              "      [1563/1563 01:26]\n",
              "    </div>\n",
              "    "
            ],
            "text/plain": [
              "<IPython.core.display.HTML object>"
            ]
          },
          "metadata": {},
          "output_type": "display_data"
        },
        {
          "name": "stdout",
          "output_type": "stream",
          "text": [
            "predicted_labels:  [0 0 0 ... 1 1 1]\n",
            "true_labels:  [0 0 0 ... 1 1 1]\n",
            "predicted_labels:  [0 0 0 ... 1 1 1]\n",
            "true_labels:  [0 0 0 ... 1 1 1]\n",
            "predicted_labels:  [0 0 0 ... 1 1 1]\n",
            "true_labels:  [0 0 0 ... 1 1 1]\n",
            "Training completed!\n"
          ]
        }
      ],
      "source": [
        "# Training arguments - we want multiple epochs to observe forgetting\n",
        "training_args = TrainingArguments(\n",
        "    output_dir='./forgetting_results',\n",
        "    num_train_epochs=3,\n",
        "    per_device_train_batch_size=32,\n",
        "    per_device_eval_batch_size=16,\n",
        "    learning_rate=2e-5,\n",
        "    logging_steps=100,\n",
        "    save_strategy=\"no\",\n",
        "    report_to=\"none\"\n",
        ")\n",
        "\n",
        "# Create trainer with our callback\n",
        "trainer = Trainer(\n",
        "    model=model,\n",
        "    args=training_args,\n",
        "    train_dataset=tokenized_dataset,\n",
        "    callbacks=[forgetting_callback],  # This is the key addition!\n",
        ")\n",
        "\n",
        "forgetting_callback.trainer = trainer\n",
        "\n",
        "print(\"Trainer created with ForgettingCallback.\")\n",
        "print(\"Starting training...\")\n",
        "\n",
        "# Train the model\n",
        "trainer.train()\n",
        "\n",
        "print(\"Training completed!\")\n"
      ]
    },
    {
      "cell_type": "markdown",
      "metadata": {
        "id": "x0A4S4W7t97W",
        "vscode": {
          "languageId": "raw"
        }
      },
      "source": [
        "## 6. Examine the Forgetting Events\n",
        "\n",
        "Let's look at what the callback recorded during training.\n"
      ]
    },
    {
      "cell_type": "code",
      "execution_count": 41,
      "metadata": {
        "colab": {
          "base_uri": "https://localhost:8080/"
        },
        "id": "OiqSV7eVt97W",
        "outputId": "6f0a6d9d-c4f7-454c-8493-8dd7cbe9217a"
      },
      "outputs": [
        {
          "name": "stdout",
          "output_type": "stream",
          "text": [
            "Number of examples tracked: 25000\n",
            "\n",
            "Forgetting scores calculated for 25000 examples\n",
            "Score distribution: min=0, max=1, mean=0.01\n"
          ]
        },
        {
          "data": {
            "text/plain": [
              "199"
            ]
          },
          "execution_count": 41,
          "metadata": {},
          "output_type": "execute_result"
        }
      ],
      "source": [
        "print(f\"Number of examples tracked: {len(forgetting_callback.learning_events)}\")\n",
        "\n",
        "# Calculate forgetting scores\n",
        "forgetting_scores = forgetting_callback.calculate_forgetting_scores()\n",
        "print(f\"\\nForgetting scores calculated for {len(forgetting_scores)} examples\")\n",
        "print(f\"Score distribution: min={min(forgetting_scores)}, max={max(forgetting_scores)}, mean={np.mean(forgetting_scores):.2f}\")\n",
        "\n",
        "total_examples_forgotten = sum([score for score in forgetting_scores if score > 0])\n",
        "total_examples_forgotten"
      ]
    },
    {
      "cell_type": "markdown",
      "metadata": {
        "id": "7mdB0WSTt97W",
        "vscode": {
          "languageId": "raw"
        }
      },
      "source": [
        "## 7. Use the Forgetting Scorer in a Pipeline\n",
        "\n",
        "Now we can use the populated callback with our `ForgettingScorer`.\n"
      ]
    },
    {
      "cell_type": "code",
      "execution_count": 48,
      "metadata": {
        "id": "fivi_cnnGpQn"
      },
      "outputs": [],
      "source": [
        "import torch\n",
        "from datasets import Dataset\n",
        "from torch.utils.data import DataLoader\n",
        "from tqdm.auto import tqdm\n",
        "from transformers import PreTrainedModel, PreTrainedTokenizer\n",
        "\n",
        "from dprune.base import Scorer\n",
        "\n",
        "class ForgettingScorer(Scorer):\n",
        "    \"\"\"\n",
        "    A Scorer that uses a ForgettingCallback to assign a \"forgetting score\"\n",
        "    to each example. The score is the number of times an example was\n",
        "    \"forgotten\" during training (i.e., transitioned from being classified\n",
        "    correctly to incorrectly).\n",
        "    \"\"\"\n",
        "\n",
        "    def __init__(self, forgetting_callback: ForgettingCallback):\n",
        "        \"\"\"\n",
        "        Initializes the ForgettingScorer.\n",
        "\n",
        "        Args:\n",
        "            forgetting_callback (ForgettingCallback): A ForgettingCallback instance\n",
        "                that has been used during a Trainer's training run.\n",
        "        \"\"\"\n",
        "        self.callback = forgetting_callback\n",
        "\n",
        "    def score(self, dataset: Dataset, **kwargs) -> Dataset:\n",
        "        \"\"\"\n",
        "        Calculates and adds the forgetting scores to the dataset.\n",
        "        The dataset passed here should be the same one used for training.\n",
        "        \"\"\"\n",
        "        scores = self.callback.calculate_forgetting_scores()\n",
        "\n",
        "        if len(scores) != len(dataset):\n",
        "            raise ValueError(\n",
        "                f\"The number of scores from the callback ({len(scores)}) does not match \"\n",
        "                f\"the dataset size ({len(dataset)}). Ensure the same dataset was used \"\n",
        "                \"for training and scoring.\"\n",
        "            )\n",
        "\n",
        "        return dataset.add_column(\"score\", scores)\n"
      ]
    },
    {
      "cell_type": "code",
      "execution_count": 49,
      "metadata": {
        "colab": {
          "base_uri": "https://localhost:8080/"
        },
        "id": "hv1acgAVt97W",
        "outputId": "a1939d6b-5993-4a12-83ea-acbd914b7904"
      },
      "outputs": [
        {
          "name": "stdout",
          "output_type": "stream",
          "text": [
            "Dataset scored with forgetting scores!\n",
            "Scored dataset columns: ['text', 'label', 'score']\n",
            "\n",
            "First few examples with scores:\n",
            "  Score: 0, Text: 'I rented I AM CURIOUS-YELLOW from my video store b...', Label: 0\n",
            "  Score: 0, Text: '\"I Am Curious: Yellow\" is a risible and pretentiou...', Label: 0\n",
            "  Score: 0, Text: 'If only to avoid making this type of film in the f...', Label: 0\n",
            "  Score: 0, Text: 'This film was probably inspired by Godard's Mascul...', Label: 0\n",
            "  Score: 0, Text: 'Oh, brother...after hearing about this ridiculous ...', Label: 0\n"
          ]
        }
      ],
      "source": [
        "# Create the forgetting scorer using our callback\n",
        "forgetting_scorer = ForgettingScorer(forgetting_callback)\n",
        "\n",
        "# Score the dataset\n",
        "scored_dataset = forgetting_scorer.score(raw_dataset)\n",
        "\n",
        "print(\"Dataset scored with forgetting scores!\")\n",
        "print(f\"Scored dataset columns: {scored_dataset.column_names}\")\n",
        "print(\"\\nFirst few examples with scores:\")\n",
        "for i in range(5):\n",
        "    print(f\"  Score: {scored_dataset['score'][i]}, Text: '{scored_dataset['text'][i][:50]}...', Label: {scored_dataset['label'][i]}\")"
      ]
    },
    {
      "cell_type": "markdown",
      "metadata": {
        "id": "2N_Ssjgnt97W",
        "vscode": {
          "languageId": "raw"
        }
      },
      "source": [
        "## 8. Pruning with Forgetting Scores\n",
        "\n"
      ]
    },
    {
      "cell_type": "code",
      "execution_count": 57,
      "metadata": {
        "colab": {
          "base_uri": "https://localhost:8080/"
        },
        "id": "JEev3W7gt97W",
        "outputId": "5dd81b68-5535-4096-a37e-9ae842812af6"
      },
      "outputs": [
        {
          "name": "stdout",
          "output_type": "stream",
          "text": [
            "\n",
            "Hardest examples (most forgotten):\n",
            " Text: 'En route to a small town that lays way off the beaten track ...', Label: 0\n",
            " Text: 'Ned Kelly (Ledger), the infamous Australian outlaw and legen...', Label: 0\n",
            " Text: 'The perfect murder is foiled when a wife(played by Mary Elle...', Label: 0\n",
            "Length of pruned dataset 2500\n"
          ]
        }
      ],
      "source": [
        "# Strategy: Keep examples that are forgotten the most (hardest examples)\n",
        "top_pruner = TopKPruner(k=0.1)  # Keep top 10%\n",
        "pipeline_hard = PruningPipeline(scorer=forgetting_scorer, pruner=top_pruner)\n",
        "hard_examples = pipeline_hard.run(raw_dataset)\n",
        "\n",
        "print(\"\\nHardest examples (most forgotten):\")\n",
        "for i in range(min(3, len(hard_examples))):\n",
        "    print(f\" Text: '{hard_examples['text'][i][:60]}...', Label: {hard_examples['label'][i]}\")\n",
        "\n",
        "print(\"Length of pruned dataset\", len(hard_examples))"
      ]
    },
    {
      "cell_type": "raw",
      "metadata": {
        "id": "UGwx17uCt97X",
        "vscode": {
          "languageId": "raw"
        }
      },
      "source": [
        "## 10. Conclusion\n",
        "\n",
        "This notebook demonstrated how to:\n",
        "\n",
        "1. **Set up the `ForgettingCallback`** to monitor training\n",
        "2. **Train a model** while recording learning events\n",
        "3. **Calculate forgetting scores** from the recorded events\n",
        "4. **Use the `ForgettingScorer`** in a `dPrune` pipeline\n",
        "\n"
      ]
    },
    {
      "cell_type": "code",
      "execution_count": null,
      "metadata": {
        "id": "22s7-YVez4Bp"
      },
      "outputs": [],
      "source": []
    }
  ],
  "metadata": {
    "accelerator": "GPU",
    "colab": {
      "gpuType": "T4",
      "provenance": []
    },
    "kernelspec": {
      "display_name": "Python 3",
      "name": "python3"
    },
    "language_info": {
      "name": "python"
    },
    "widgets": {
      "application/vnd.jupyter.widget-state+json": {
        "10533fa9c845444190027569323d7794": {
          "model_module": "@jupyter-widgets/controls",
          "model_module_version": "1.5.0",
          "model_name": "HTMLModel",
          "state": {
            "_dom_classes": [],
            "_model_module": "@jupyter-widgets/controls",
            "_model_module_version": "1.5.0",
            "_model_name": "HTMLModel",
            "_view_count": null,
            "_view_module": "@jupyter-widgets/controls",
            "_view_module_version": "1.5.0",
            "_view_name": "HTMLView",
            "description": "",
            "description_tooltip": null,
            "layout": "IPY_MODEL_94877e7b225d4cefbcfd9a8d8b0e0e53",
            "placeholder": "​",
            "style": "IPY_MODEL_684a4eac4f6c4430abc226e31e6bc23b",
            "value": " 25000/25000 [00:21&lt;00:00, 960.74 examples/s]"
          }
        },
        "1fd71d46ee9a4223bd4e7a900227581e": {
          "model_module": "@jupyter-widgets/base",
          "model_module_version": "1.2.0",
          "model_name": "LayoutModel",
          "state": {
            "_model_module": "@jupyter-widgets/base",
            "_model_module_version": "1.2.0",
            "_model_name": "LayoutModel",
            "_view_count": null,
            "_view_module": "@jupyter-widgets/base",
            "_view_module_version": "1.2.0",
            "_view_name": "LayoutView",
            "align_content": null,
            "align_items": null,
            "align_self": null,
            "border": null,
            "bottom": null,
            "display": null,
            "flex": null,
            "flex_flow": null,
            "grid_area": null,
            "grid_auto_columns": null,
            "grid_auto_flow": null,
            "grid_auto_rows": null,
            "grid_column": null,
            "grid_gap": null,
            "grid_row": null,
            "grid_template_areas": null,
            "grid_template_columns": null,
            "grid_template_rows": null,
            "height": null,
            "justify_content": null,
            "justify_items": null,
            "left": null,
            "margin": null,
            "max_height": null,
            "max_width": null,
            "min_height": null,
            "min_width": null,
            "object_fit": null,
            "object_position": null,
            "order": null,
            "overflow": null,
            "overflow_x": null,
            "overflow_y": null,
            "padding": null,
            "right": null,
            "top": null,
            "visibility": null,
            "width": null
          }
        },
        "30eb898cde6c45dea7e31511bfb98bbc": {
          "model_module": "@jupyter-widgets/base",
          "model_module_version": "1.2.0",
          "model_name": "LayoutModel",
          "state": {
            "_model_module": "@jupyter-widgets/base",
            "_model_module_version": "1.2.0",
            "_model_name": "LayoutModel",
            "_view_count": null,
            "_view_module": "@jupyter-widgets/base",
            "_view_module_version": "1.2.0",
            "_view_name": "LayoutView",
            "align_content": null,
            "align_items": null,
            "align_self": null,
            "border": null,
            "bottom": null,
            "display": null,
            "flex": null,
            "flex_flow": null,
            "grid_area": null,
            "grid_auto_columns": null,
            "grid_auto_flow": null,
            "grid_auto_rows": null,
            "grid_column": null,
            "grid_gap": null,
            "grid_row": null,
            "grid_template_areas": null,
            "grid_template_columns": null,
            "grid_template_rows": null,
            "height": null,
            "justify_content": null,
            "justify_items": null,
            "left": null,
            "margin": null,
            "max_height": null,
            "max_width": null,
            "min_height": null,
            "min_width": null,
            "object_fit": null,
            "object_position": null,
            "order": null,
            "overflow": null,
            "overflow_x": null,
            "overflow_y": null,
            "padding": null,
            "right": null,
            "top": null,
            "visibility": null,
            "width": null
          }
        },
        "684a4eac4f6c4430abc226e31e6bc23b": {
          "model_module": "@jupyter-widgets/controls",
          "model_module_version": "1.5.0",
          "model_name": "DescriptionStyleModel",
          "state": {
            "_model_module": "@jupyter-widgets/controls",
            "_model_module_version": "1.5.0",
            "_model_name": "DescriptionStyleModel",
            "_view_count": null,
            "_view_module": "@jupyter-widgets/base",
            "_view_module_version": "1.2.0",
            "_view_name": "StyleView",
            "description_width": ""
          }
        },
        "7c366fc2c1524fc29940036cad10d9c4": {
          "model_module": "@jupyter-widgets/controls",
          "model_module_version": "1.5.0",
          "model_name": "ProgressStyleModel",
          "state": {
            "_model_module": "@jupyter-widgets/controls",
            "_model_module_version": "1.5.0",
            "_model_name": "ProgressStyleModel",
            "_view_count": null,
            "_view_module": "@jupyter-widgets/base",
            "_view_module_version": "1.2.0",
            "_view_name": "StyleView",
            "bar_color": null,
            "description_width": ""
          }
        },
        "7e7bcca53aab47589ca1a7bbdeac70cf": {
          "model_module": "@jupyter-widgets/controls",
          "model_module_version": "1.5.0",
          "model_name": "HTMLModel",
          "state": {
            "_dom_classes": [],
            "_model_module": "@jupyter-widgets/controls",
            "_model_module_version": "1.5.0",
            "_model_name": "HTMLModel",
            "_view_count": null,
            "_view_module": "@jupyter-widgets/controls",
            "_view_module_version": "1.5.0",
            "_view_name": "HTMLView",
            "description": "",
            "description_tooltip": null,
            "layout": "IPY_MODEL_30eb898cde6c45dea7e31511bfb98bbc",
            "placeholder": "​",
            "style": "IPY_MODEL_bb9ada7af444436a8dd4843ae81d46fb",
            "value": "Map: 100%"
          }
        },
        "8ce3d4f6a99f459e8749f92cc4bc1d5b": {
          "model_module": "@jupyter-widgets/base",
          "model_module_version": "1.2.0",
          "model_name": "LayoutModel",
          "state": {
            "_model_module": "@jupyter-widgets/base",
            "_model_module_version": "1.2.0",
            "_model_name": "LayoutModel",
            "_view_count": null,
            "_view_module": "@jupyter-widgets/base",
            "_view_module_version": "1.2.0",
            "_view_name": "LayoutView",
            "align_content": null,
            "align_items": null,
            "align_self": null,
            "border": null,
            "bottom": null,
            "display": null,
            "flex": null,
            "flex_flow": null,
            "grid_area": null,
            "grid_auto_columns": null,
            "grid_auto_flow": null,
            "grid_auto_rows": null,
            "grid_column": null,
            "grid_gap": null,
            "grid_row": null,
            "grid_template_areas": null,
            "grid_template_columns": null,
            "grid_template_rows": null,
            "height": null,
            "justify_content": null,
            "justify_items": null,
            "left": null,
            "margin": null,
            "max_height": null,
            "max_width": null,
            "min_height": null,
            "min_width": null,
            "object_fit": null,
            "object_position": null,
            "order": null,
            "overflow": null,
            "overflow_x": null,
            "overflow_y": null,
            "padding": null,
            "right": null,
            "top": null,
            "visibility": null,
            "width": null
          }
        },
        "94877e7b225d4cefbcfd9a8d8b0e0e53": {
          "model_module": "@jupyter-widgets/base",
          "model_module_version": "1.2.0",
          "model_name": "LayoutModel",
          "state": {
            "_model_module": "@jupyter-widgets/base",
            "_model_module_version": "1.2.0",
            "_model_name": "LayoutModel",
            "_view_count": null,
            "_view_module": "@jupyter-widgets/base",
            "_view_module_version": "1.2.0",
            "_view_name": "LayoutView",
            "align_content": null,
            "align_items": null,
            "align_self": null,
            "border": null,
            "bottom": null,
            "display": null,
            "flex": null,
            "flex_flow": null,
            "grid_area": null,
            "grid_auto_columns": null,
            "grid_auto_flow": null,
            "grid_auto_rows": null,
            "grid_column": null,
            "grid_gap": null,
            "grid_row": null,
            "grid_template_areas": null,
            "grid_template_columns": null,
            "grid_template_rows": null,
            "height": null,
            "justify_content": null,
            "justify_items": null,
            "left": null,
            "margin": null,
            "max_height": null,
            "max_width": null,
            "min_height": null,
            "min_width": null,
            "object_fit": null,
            "object_position": null,
            "order": null,
            "overflow": null,
            "overflow_x": null,
            "overflow_y": null,
            "padding": null,
            "right": null,
            "top": null,
            "visibility": null,
            "width": null
          }
        },
        "bb9ada7af444436a8dd4843ae81d46fb": {
          "model_module": "@jupyter-widgets/controls",
          "model_module_version": "1.5.0",
          "model_name": "DescriptionStyleModel",
          "state": {
            "_model_module": "@jupyter-widgets/controls",
            "_model_module_version": "1.5.0",
            "_model_name": "DescriptionStyleModel",
            "_view_count": null,
            "_view_module": "@jupyter-widgets/base",
            "_view_module_version": "1.2.0",
            "_view_name": "StyleView",
            "description_width": ""
          }
        },
        "be05cfd23251404883b86a72b5045106": {
          "model_module": "@jupyter-widgets/controls",
          "model_module_version": "1.5.0",
          "model_name": "FloatProgressModel",
          "state": {
            "_dom_classes": [],
            "_model_module": "@jupyter-widgets/controls",
            "_model_module_version": "1.5.0",
            "_model_name": "FloatProgressModel",
            "_view_count": null,
            "_view_module": "@jupyter-widgets/controls",
            "_view_module_version": "1.5.0",
            "_view_name": "ProgressView",
            "bar_style": "success",
            "description": "",
            "description_tooltip": null,
            "layout": "IPY_MODEL_8ce3d4f6a99f459e8749f92cc4bc1d5b",
            "max": 25000,
            "min": 0,
            "orientation": "horizontal",
            "style": "IPY_MODEL_7c366fc2c1524fc29940036cad10d9c4",
            "value": 25000
          }
        },
        "f51535f3e3f449df8b88b7d177daa211": {
          "model_module": "@jupyter-widgets/controls",
          "model_module_version": "1.5.0",
          "model_name": "HBoxModel",
          "state": {
            "_dom_classes": [],
            "_model_module": "@jupyter-widgets/controls",
            "_model_module_version": "1.5.0",
            "_model_name": "HBoxModel",
            "_view_count": null,
            "_view_module": "@jupyter-widgets/controls",
            "_view_module_version": "1.5.0",
            "_view_name": "HBoxView",
            "box_style": "",
            "children": [
              "IPY_MODEL_7e7bcca53aab47589ca1a7bbdeac70cf",
              "IPY_MODEL_be05cfd23251404883b86a72b5045106",
              "IPY_MODEL_10533fa9c845444190027569323d7794"
            ],
            "layout": "IPY_MODEL_1fd71d46ee9a4223bd4e7a900227581e"
          }
        },
        "state": {}
      }
    }
  },
  "nbformat": 4,
  "nbformat_minor": 0
}
